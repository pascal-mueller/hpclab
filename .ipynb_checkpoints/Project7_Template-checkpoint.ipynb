{
 "cells": [
  {
   "cell_type": "markdown",
   "metadata": {},
   "source": [
    "<img src=\"ETH-Zurich-Logo.png\" style=\"width: 400px; padding-left: 50px; padding-top: 20px;\" align=\"right\"/>\n",
    "\n",
    "\n",
    "# Project 7- High-Performance Computing in Jupyter\n",
    "\n",
    "## Student Name, Date"
   ]
  },
  {
   "cell_type": "markdown",
   "metadata": {},
   "source": [
    "# Example of a simple NLP problem solved with IPOPT\n",
    "\n",
    "Minimize $ f(x) := \\left( x_0 \\cdot x_3  \\cdot \\sum_{i=0}^2 x_i \\right) + x_2$\n",
    "\n",
    "subject to \n",
    "\n",
    "$\\qquad x^T x = 40$\n",
    "\n",
    "$\\qquad \\prod_{i=0}^3 x_i \\geq 25$\n",
    "\n",
    "$\\qquad 1 \\leq x \\leq 5$"
   ]
  },
  {
   "cell_type": "code",
   "execution_count": 1,
   "metadata": {},
   "outputs": [
    {
     "name": "stderr",
     "output_type": "stream",
     "text": [
      "/home/pascal/.local/lib/python3.9/site-packages/ipopt/__init__.py:13: FutureWarning: The module has been renamed to 'cyipopt' from 'ipopt'. Please import using 'import cyipopt' and remove all uses of 'import ipopt' in your code as this will be deprecated in a future release.\n",
      "  warnings.warn(msg, FutureWarning)\n"
     ]
    }
   ],
   "source": [
    "from __future__ import print_function, unicode_literals\n",
    "\n",
    "import sys\n",
    "import ipopt\n",
    "import numpy as np\n",
    "import matplotlib.pyplot as plt"
   ]
  },
  {
   "cell_type": "markdown",
   "metadata": {},
   "source": [
    "We need to implement a Python object that evaluates:\n",
    "* Objective function $f(x)$ \n",
    "* Objective function gradient $\\nabla_x f(x)$\n",
    "* Constraints $g(x)$\n",
    "* Jacobian of constraints $\\nabla_x g(x)$\n",
    "* Hessian of Lagrangian $\\nabla^2_x \\sigma f(x) + \\lambda^T \\nabla^2_x g(x)$"
   ]
  },
  {
   "cell_type": "code",
   "execution_count": 2,
   "metadata": {},
   "outputs": [],
   "source": [
    "class example(object):\n",
    "    def __init__(self):\n",
    "        pass\n",
    "\n",
    "    def objective(self, x):\n",
    "        #\n",
    "        # The callback for calculating the objective\n",
    "        #\n",
    "        return x[0] * x[3] * np.sum(x[0:3]) + x[2]\n",
    "\n",
    "    def gradient(self, x):\n",
    "        #\n",
    "        # The callback for calculating the gradient\n",
    "        #\n",
    "        return np.array([\n",
    "                    x[0] * x[3] + x[3] * np.sum(x[0:3]),\n",
    "                    x[0] * x[3],\n",
    "                    x[0] * x[3] + 1.0,\n",
    "                    x[0] * np.sum(x[0:3])\n",
    "                    ])\n",
    "\n",
    "    def constraints(self, x):\n",
    "        #\n",
    "        # The callback for calculating the constraints\n",
    "        #\n",
    "        return np.array((np.prod(x), np.dot(x, x)))\n",
    "\n",
    "    def jacobian(self, x):\n",
    "        #\n",
    "        # The callback for calculating the Jacobian\n",
    "        #\n",
    "        return np.concatenate((np.prod(x) / x, 2*x))\n",
    "\n",
    "    def hessianstructure(self):\n",
    "        #\n",
    "        # The structure of the Hessian\n",
    "        # Note:\n",
    "        # The default hessian structure is of a lower triangular matrix. Therefore\n",
    "        # this function is redundant. I include it as an example for structure\n",
    "        # callback.\n",
    "        #\n",
    "\n",
    "        return np.nonzero(np.tril(np.ones((4, 4))))\n",
    "\n",
    "    def hessian(self, x, lagrange, obj_factor):\n",
    "        #\n",
    "        # The callback for calculating the Hessian\n",
    "        #\n",
    "        H = obj_factor*np.array((\n",
    "                (2*x[3], 0, 0, 0),\n",
    "                (x[3],   0, 0, 0),\n",
    "                (x[3],   0, 0, 0),\n",
    "                (2*x[0]+x[1]+x[2], x[0], x[0], 0)))\n",
    "\n",
    "        H += lagrange[0]*np.array((\n",
    "                (0, 0, 0, 0),\n",
    "                (x[2]*x[3], 0, 0, 0),\n",
    "                (x[1]*x[3], x[0]*x[3], 0, 0),\n",
    "                (x[1]*x[2], x[0]*x[2], x[0]*x[1], 0)))\n",
    "\n",
    "        H += lagrange[1]*2*np.eye(4)\n",
    "\n",
    "        row, col = self.hessianstructure()\n",
    "\n",
    "        return H[row, col]\n",
    "\n",
    "    def intermediate(\n",
    "            self,\n",
    "            alg_mod,\n",
    "            iter_count,\n",
    "            obj_value,\n",
    "            inf_pr,\n",
    "            inf_du,\n",
    "            mu,\n",
    "            d_norm,\n",
    "            regularization_size,\n",
    "            alpha_du,\n",
    "            alpha_pr,\n",
    "            ls_trials\n",
    "            ):\n",
    "\n",
    "        #\n",
    "        # Example for the use of the intermediate callback.\n",
    "        #\n",
    "        print(\"Objective value at iteration #%d is - %g\" % (iter_count, obj_value))\n",
    "\n"
   ]
  },
  {
   "cell_type": "markdown",
   "metadata": {},
   "source": [
    "Next, we define the initial point $x_0$ and the bounds for the variables $lb, ub$ and constraints $cl, cu$. We also need to provide the size of the vector of optimization variables $n$ and number of constraints $m$."
   ]
  },
  {
   "cell_type": "code",
   "execution_count": 3,
   "metadata": {},
   "outputs": [
    {
     "name": "stderr",
     "output_type": "stream",
     "text": [
      "<ipython-input-3-4a012524fa99>:12: FutureWarning: The class named 'problem' will soon be deprecated in CyIpopt. Please replace all uses and use 'Problem' going forward.\n",
      "  nlp = ipopt.problem(\n"
     ]
    }
   ],
   "source": [
    "#\n",
    "# Define the problem\n",
    "#\n",
    "x0 = [1.0, 5.0, 5.0, 1.0]\n",
    "\n",
    "lb = [1.0, 1.0, 1.0, 1.0]\n",
    "ub = [5.0, 5.0, 5.0, 5.0]\n",
    "\n",
    "cl = [25.0, 40.0]\n",
    "cu = [2.0e19, 40.0]\n",
    "\n",
    "nlp = ipopt.problem(\n",
    "            n=len(x0),\n",
    "            m=len(cl),\n",
    "            problem_obj=example(),\n",
    "            lb=lb,\n",
    "            ub=ub,\n",
    "            cl=cl,\n",
    "            cu=cu\n",
    "            )"
   ]
  },
  {
   "cell_type": "markdown",
   "metadata": {},
   "source": [
    "We also set some options for the optimizer, such as tolerance and possibly a scaling of the problem."
   ]
  },
  {
   "cell_type": "code",
   "execution_count": 4,
   "metadata": {},
   "outputs": [
    {
     "name": "stderr",
     "output_type": "stream",
     "text": [
      "/home/pascal/.local/lib/python3.9/site-packages/cyipopt/utils.py:43: FutureWarning: The method named 'addOption' in class 'Problem' will soon be deprecated in CyIpopt. Please replace all uses and use 'add_option' going forward.\n",
      "  warnings.warn(msg, FutureWarning)\n",
      "/home/pascal/.local/lib/python3.9/site-packages/cyipopt/utils.py:43: FutureWarning: The method named 'setProblemScaling' in class 'Problem' will soon be deprecated in CyIpopt. Please replace all uses and use 'set_problem_scaling' going forward.\n",
      "  warnings.warn(msg, FutureWarning)\n"
     ]
    }
   ],
   "source": [
    "#\n",
    "# Set solver options\n",
    "#\n",
    "nlp.addOption('tol', 1e-7)\n",
    "\n",
    "#\n",
    "# Scale the problem (Just for demonstration purposes)\n",
    "#\n",
    "nlp.setProblemScaling(\n",
    "    obj_scaling=2,\n",
    "    x_scaling=[1, 1, 1, 1]\n",
    "    )\n",
    "nlp.addOption('nlp_scaling_method', 'user-scaling')"
   ]
  },
  {
   "cell_type": "markdown",
   "metadata": {},
   "source": [
    "Finally, we ask the optimizer to find the solution, providing the initial point $x_0$."
   ]
  },
  {
   "cell_type": "code",
   "execution_count": 5,
   "metadata": {},
   "outputs": [
    {
     "name": "stdout",
     "output_type": "stream",
     "text": [
      "Objective value at iteration #0 is - 16.1097\n",
      "Objective value at iteration #1 is - 16.8909\n",
      "Objective value at iteration #2 is - 17.0909\n",
      "Objective value at iteration #3 is - 16.9259\n",
      "Objective value at iteration #4 is - 17.0069\n",
      "Objective value at iteration #5 is - 17.0141\n",
      "Objective value at iteration #6 is - 17.014\n",
      "Objective value at iteration #7 is - 17.014\n"
     ]
    }
   ],
   "source": [
    "#\n",
    "# Solve the problem\n",
    "#\n",
    "x, info = nlp.solve(x0)"
   ]
  },
  {
   "cell_type": "code",
   "execution_count": 6,
   "metadata": {},
   "outputs": [
    {
     "name": "stdout",
     "output_type": "stream",
     "text": [
      "Solution of the primal variables: x=array([1.        , 4.74299964, 3.82114998, 1.37940829])\n",
      "\n",
      "Solution of the dual variables: lambda=array([-0.55229366,  0.16146856])\n",
      "\n",
      "Objective=17.014017149286666\n",
      "\n"
     ]
    }
   ],
   "source": [
    "print(\"Solution of the primal variables: x=%s\\n\" % repr(x))\n",
    "print(\"Solution of the dual variables: lambda=%s\\n\" % repr(info['mult_g']))\n",
    "print(\"Objective=%s\\n\" % repr(info['obj_val']))"
   ]
  },
  {
   "cell_type": "markdown",
   "metadata": {},
   "source": [
    "# Analysis of the solution\n",
    "\n",
    "Next, we can analyze the solution and visualize it"
   ]
  },
  {
   "cell_type": "code",
   "execution_count": 7,
   "metadata": {},
   "outputs": [
    {
     "data": {
      "text/plain": [
       "[<matplotlib.lines.Line2D at 0x7f7faaa82400>]"
      ]
     },
     "execution_count": 7,
     "metadata": {},
     "output_type": "execute_result"
    },
    {
     "data": {
      "image/png": "[encoded data removed]",
      "text/plain": [
       "<Figure size 432x288 with 1 Axes>"
      ]
     },
     "metadata": {
      "needs_background": "light"
     },
     "output_type": "display_data"
    }
   ],
   "source": [
    "plt.plot(x)"
   ]
  },
  {
   "cell_type": "markdown",
   "metadata": {},
   "source": [
    "We can also do an advanced visualization of the data"
   ]
  },
  {
   "cell_type": "code",
   "execution_count": 8,
   "metadata": {},
   "outputs": [
    {
     "name": "stderr",
     "output_type": "stream",
     "text": [
      "<ipython-input-8-d86744b7dab4>:10: MatplotlibDeprecationWarning: Calling gca() with keyword arguments was deprecated in Matplotlib 3.4. Starting two minor releases later, gca() will take no keyword arguments. The gca() function should only be used to get the current axes, or if no axes exist, create new axes with default keyword arguments. To create a new axes with non-default arguments, use plt.axes() or plt.subplot().\n",
      "  ax = fig.gca(projection='3d')\n"
     ]
    },
    {
     "data": {
      "image/png": "[encoded data removed]",
      "text/plain": [
       "<Figure size 432x288 with 2 Axes>"
      ]
     },
     "metadata": {
      "needs_background": "light"
     },
     "output_type": "display_data"
    }
   ],
   "source": [
    "# This import registers the 3D projection, but is otherwise unused.\n",
    "from mpl_toolkits.mplot3d import Axes3D  # noqa: F401 unused import\n",
    "\n",
    "#import matplotlib.pyplot as plt\n",
    "from matplotlib import cm\n",
    "from matplotlib.ticker import LinearLocator, FormatStrFormatter\n",
    "\n",
    "\n",
    "fig = plt.figure()\n",
    "ax = fig.gca(projection='3d')\n",
    "\n",
    "# Make the mesh grid of some data for demonstration purposes\n",
    "X1 = np.arange(-5, 5, 0.25)\n",
    "X2 = np.arange(-5, 5, 0.25)\n",
    "X1, X2 = np.meshgrid(X1, X2)\n",
    "R = np.sqrt(X1**2 + X2**2)\n",
    "Z = np.sin(R)\n",
    "\n",
    "# Plot the surface.\n",
    "surf = ax.plot_surface(X1, X2, Z, cmap=cm.coolwarm,\n",
    "                       linewidth=0, antialiased=False)\n",
    "\n",
    "# Customize the z axis.\n",
    "ax.set_zlim(-1.01, 1.01)\n",
    "ax.zaxis.set_major_locator(LinearLocator(10))\n",
    "ax.zaxis.set_major_formatter(FormatStrFormatter('%.02f'))\n",
    "\n",
    "# Add a color bar which maps values to colors.\n",
    "fig.colorbar(surf, shrink=0.5, aspect=5)\n",
    "\n",
    "plt.show()"
   ]
  },
  {
   "cell_type": "markdown",
   "metadata": {},
   "source": [
    "Or when it comes to performance analysis, we can plot our scaling data"
   ]
  },
  {
   "cell_type": "code",
   "execution_count": 9,
   "metadata": {},
   "outputs": [
    {
     "data": {
      "image/png": "[encoded data removed]",
      "text/plain": [
       "<Figure size 432x288 with 1 Axes>"
      ]
     },
     "metadata": {
      "needs_background": "light"
     },
     "output_type": "display_data"
    }
   ],
   "source": [
    "nthreads = ['1','2','4','8','16']\n",
    "times = [100,50,25,12,6]\n",
    "\n",
    "fig = plt.figure()\n",
    "ax = fig.add_axes([0,0,1,1])\n",
    "ax.bar(nthreads,times)\n",
    "ax.set_title('Scaling with OpenMP threads')\n",
    "ax.set_ylabel('Time (s)')\n",
    "ax.set_xlabel('Number of threads')\n",
    "plt.show()"
   ]
  },
  {
   "cell_type": "code",
   "execution_count": null,
   "metadata": {},
   "outputs": [],
   "source": []
  }
 ],
 "metadata": {
  "kernelspec": {
   "display_name": "Python 3",
   "language": "python",
   "name": "python3"
  },
  "language_info": {
   "codemirror_mode": {
    "name": "ipython",
    "version": 3
   },
   "file_extension": ".py",
   "mimetype": "text/x-python",
   "name": "python",
   "nbconvert_exporter": "python",
   "pygments_lexer": "ipython3",
   "version": "3.9.5"
  }
 },
 "nbformat": 4,
 "nbformat_minor": 2
}
