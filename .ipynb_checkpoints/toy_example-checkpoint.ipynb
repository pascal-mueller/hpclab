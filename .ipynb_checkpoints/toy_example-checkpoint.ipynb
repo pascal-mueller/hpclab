{
 "cells": [
  {
   "cell_type": "markdown",
   "metadata": {},
   "source": [
    "SVD $A = USV^H$"
   ]
  },
  {
   "cell_type": "code",
   "execution_count": 4,
   "metadata": {},
   "outputs": [],
   "source": []
  },
  {
   "cell_type": "code",
   "execution_count": 5,
   "metadata": {},
   "outputs": [],
   "source": [
    "def timeit(method):\n",
    "    import time\n",
    "    \n",
    "    def timed(*args, **kw):\n",
    "        ts = time.time()\n",
    "        result = method(*args, **kw)\n",
    "        te = time.time()\n",
    "        duration = (te-ts)*1000\n",
    "        print('%r %f ms' % (method.__name__, duration))\n",
    "        return result\n",
    "\n",
    "    return timed\n",
    "\n",
    "def setCores(p):\n",
    "    import os\n",
    "    os.environ[\"OMP_NUM_THREADS\"] = p # export OMP_NUM_THREADS=4\n",
    "    os.environ[\"OPENBLAS_NUM_THREADS\"] = p # export OPENBLAS_NUM_THREADS=4 \n",
    "    os.environ[\"MKL_NUM_THREADS\"] = p # export MKL_NUM_THREADS=6\n",
    "    os.environ[\"VECLIB_MAXIMUM_THREADS\"] = p # export VECLIB_MAXIMUM_THREADS=4\n",
    "    os.environ[\"NUMEXPR_NUM_THREADS\"] = p # export NUMEXPR_NUM_THREADS=6\n",
    "\n",
    "\n",
    "@timeit\n",
    "def compute():\n",
    "    np.linalg.svd(A)"
   ]
  },
  {
   "cell_type": "code",
   "execution_count": null,
   "metadata": {},
   "outputs": [],
   "source": [
    "P = [1, 4, 8, 16, 24]\n",
    "N = 100000\n",
    "\n",
    "for p in P:\n",
    "    A = np.random.randn(N, N) + 1j*np.random.randn(N, N)\n",
    "    compute()"
   ]
  },
  {
   "cell_type": "code",
   "execution_count": null,
   "metadata": {},
   "outputs": [],
   "source": [
    "\n"
   ]
  },
  {
   "cell_type": "code",
   "execution_count": null,
   "metadata": {},
   "outputs": [],
   "source": []
  }
 ],
 "metadata": {
  "kernelspec": {
   "display_name": "Python 3",
   "language": "python",
   "name": "python3"
  },
  "language_info": {
   "codemirror_mode": {
    "name": "ipython",
    "version": 3
   },
   "file_extension": ".py",
   "mimetype": "text/x-python",
   "name": "python",
   "nbconvert_exporter": "python",
   "pygments_lexer": "ipython3",
   "version": "3.6.1"
  }
 },
 "nbformat": 4,
 "nbformat_minor": 2
}
